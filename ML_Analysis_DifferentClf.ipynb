{
 "cells": [
  {
   "cell_type": "code",
   "execution_count": 1,
   "metadata": {},
   "outputs": [],
   "source": [
    "import os\n",
    "import pandas as pd\n",
    "import numpy as np\n",
    "from functools import reduce\n",
    "from sklearn import clone\n",
    "from sklearn.ensemble import RandomForestClassifier\n",
    "from sklearn.model_selection import StratifiedKFold\n",
    "from tqdm import tqdm\n",
    "from ML_util import *\n",
    "from ML_Analysis_OptimalStimuli import LoadSelectiveData\n",
    "\n",
    "path = \"data/BlueMediumRarePupil_task1-1.csv\"\n",
    "thisData = LoadSelectiveData(path)"
   ]
  },
  {
   "cell_type": "code",
   "execution_count": 2,
   "metadata": {},
   "outputs": [],
   "source": [
    "train_data_ratio = 0.6\n",
    "valid_data_ratio = 0.2\n",
    "test_data_ratio = 0.2\n",
    "\n",
    "trb, vdb, teb = thisData.split_data(train_data_ratio, valid_data_ratio, test_data_ratio)"
   ]
  },
  {
   "cell_type": "code",
   "execution_count": 3,
   "metadata": {},
   "outputs": [],
   "source": [
    "def ml_train(data, boolGaze=None):\n",
    "    if boolGaze == None:\n",
    "        boolGazeData = data\n",
    "    else:\n",
    "        boolGazeData = data[data['gaze_hit']==boolGaze]\n",
    "    x_train_data = thisData.take_x(boolGazeData).to_numpy()\n",
    "    y_train_data = thisData.take_y(boolGazeData).to_numpy()\n",
    "    # warnings.filterwarnings('ignore')\n",
    "    rf_model = RandomForestClassifier(random_state=0)  # Random Forest\n",
    "    rf_model.fit(x_train_data, y_train_data)\n",
    "    return rf_model\n",
    "\n",
    "def ml_validate(model, data, boolGaze=None):\n",
    "    if boolGaze == None:\n",
    "        boolGazeData = data\n",
    "    else:\n",
    "        boolGazeData = data[data['gaze_hit']==boolGaze]\n",
    "    x_valid_data = thisData.take_x(boolGazeData).to_numpy()\n",
    "    y_valid_data = thisData.take_y(boolGazeData).to_numpy()\n",
    "    predict_y = model.predict(x_valid_data)\n",
    "    thisConfusionMatrix = confusion_matrix(y_valid_data, predict_y)\n",
    "    visualize_cm(thisConfusionMatrix, 'RF', ' ')\n",
    "    for i in range(13):\n",
    "        # print(\"====================\")\n",
    "    #     thisConfusionMatrix = confusion_matrix(y_valid_data, predict_y)\n",
    "    #     print(f\"FAR: {BiometricEvaluation(thisConfusionMatrix, i, 'FAR')}\")\n",
    "        print(f\" participant {i} FRR: {BiometricEvaluation(thisConfusionMatrix, i, 'FRR')}\")\n",
    "\n",
    "def ml_test_baseline(model, data, boolGaze=None):\n",
    "    if boolGaze == None:\n",
    "        boolGazeData = data\n",
    "    else:\n",
    "        boolGazeData = data[data['gaze_hit']==boolGaze]\n",
    "    total_x = thisData.take_x(boolGazeData).to_numpy()\n",
    "    total_y = thisData.take_y(boolGazeData).to_numpy()\n",
    "    stack_index, stack_y = stack_ydata_from_same_combinations(total_y, 3)\n",
    "    results = latefusion(model, total_x, stack_index, stack_y)\n",
    "    return results\n",
    "    "
   ]
  },
  {
   "cell_type": "code",
   "execution_count": 4,
   "metadata": {},
   "outputs": [],
   "source": [
    "nohit_model = ml_train(thisData.get_data().iloc[trb], boolGaze=0)\n",
    "onhit_model = ml_train(thisData.get_data().iloc[trb], boolGaze=1)\n",
    "total_model = ml_train(thisData.get_data().iloc[trb])"
   ]
  },
  {
   "cell_type": "code",
   "execution_count": null,
   "metadata": {},
   "outputs": [],
   "source": [
    "ml_validate(total_model, thisData.get_data().iloc[vdb])\n",
    "ml_validate(nohit_model, thisData.get_data().iloc[vdb], boolGaze=0)\n",
    "ml_validate(onhit_model, thisData.get_data().iloc[vdb], boolGaze=1)\n"
   ]
  },
  {
   "cell_type": "code",
   "execution_count": 5,
   "metadata": {},
   "outputs": [
    {
     "name": "stderr",
     "output_type": "stream",
     "text": [
      "c:\\Users\\scilab\\anaconda3\\anaconda\\envs\\mlanalysis\\lib\\site-packages\\sklearn\\ensemble\\_forest.py:910: RuntimeWarning: divide by zero encountered in log\n",
      "  return np.log(proba)\n"
     ]
    },
    {
     "ename": "",
     "evalue": "",
     "output_type": "error",
     "traceback": [
      "\u001b[1;31mCannot execute code, session has been disposed. Please try restarting the Kernel."
     ]
    },
    {
     "ename": "",
     "evalue": "",
     "output_type": "error",
     "traceback": [
      "\u001b[1;31mThe Kernel crashed while executing code in the the current cell or a previous cell. Please review the code in the cell(s) to identify a possible cause of the failure. Click <a href='https://aka.ms/vscodeJupyterKernelCrash'>here</a> for more info. View Jupyter <a href='command:jupyter.viewOutput'>log</a> for further details."
     ]
    }
   ],
   "source": [
    "results = ml_test_baseline(total_model, thisData.get_data().iloc[teb])\n",
    "thisConfusionMatrix = results[\"cm_multiply\"]\n",
    "for i in range(13):\n",
    "    print(\"====================\")\n",
    "    print(f\"participant {i}\")\n",
    "    print(f\"Accuracy for verification: {accuracyMeasurementForVerification(thisConfusionMatrix, i)}\")\n",
    "    print(f\"FAR: {BiometricEvaluation(thisConfusionMatrix, i, 'FAR')}\")\n",
    "    print(f\"FRR: {BiometricEvaluation(thisConfusionMatrix, i, 'FRR')}\")\n",
    "    "
   ]
  },
  {
   "attachments": {},
   "cell_type": "markdown",
   "metadata": {},
   "source": []
  },
  {
   "cell_type": "code",
   "execution_count": null,
   "metadata": {},
   "outputs": [],
   "source": []
  }
 ],
 "metadata": {
  "kernelspec": {
   "display_name": "mlanalysis",
   "language": "python",
   "name": "python3"
  },
  "language_info": {
   "codemirror_mode": {
    "name": "ipython",
    "version": 3
   },
   "file_extension": ".py",
   "mimetype": "text/x-python",
   "name": "python",
   "nbconvert_exporter": "python",
   "pygments_lexer": "ipython3",
   "version": "3.8.16"
  },
  "orig_nbformat": 4
 },
 "nbformat": 4,
 "nbformat_minor": 2
}
