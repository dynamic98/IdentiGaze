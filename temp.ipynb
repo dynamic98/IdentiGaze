{
 "cells": [
  {
   "cell_type": "code",
   "execution_count": 2,
   "metadata": {},
   "outputs": [],
   "source": [
    "import os\n",
    "import pandas as pd\n",
    "from ML_util import *\n",
    "from ML_Analysis_OptimalStimuli import LoadSelectiveData\n",
    "\n",
    "datapath = 'data\\BlueMediumRarePupilMfcc_total.csv'"
   ]
  },
  {
   "cell_type": "code",
   "execution_count": 3,
   "metadata": {},
   "outputs": [],
   "source": [
    "thisData = LoadSelectiveData(datapath)\n",
    "train_data_ratio = 0.9\n",
    "valid_data_ratio = 0\n",
    "test_data_ratio = 0.1"
   ]
  },
  {
   "cell_type": "code",
   "execution_count": 4,
   "metadata": {},
   "outputs": [
    {
     "name": "stdout",
     "output_type": "stream",
     "text": [
      "train Done\n"
     ]
    }
   ],
   "source": [
    "trb, vdb, teb = thisData.split_data(train_data_ratio, valid_data_ratio, test_data_ratio)\n",
    "model = thisData.ml_train(trb)\n",
    "print(\"train Done\")"
   ]
  },
  {
   "cell_type": "code",
   "execution_count": 5,
   "metadata": {},
   "outputs": [],
   "source": [
    "results = thisData.ml_test_baseline(model, teb)\n",
    "confusionMatrixExclude6 = results[\"cm_multiply\"]"
   ]
  },
  {
   "cell_type": "code",
   "execution_count": 7,
   "metadata": {},
   "outputs": [
    {
     "data": {
      "image/png": "[encoded data removed]",
      "text/plain": [
       "<Figure size 640x480 with 2 Axes>"
      ]
     },
     "metadata": {},
     "output_type": "display_data"
    }
   ],
   "source": [
    "visualize_cm(confusionMatrixExclude6, ' ', ' ')"
   ]
  },
  {
   "cell_type": "code",
   "execution_count": 1,
   "metadata": {},
   "outputs": [
    {
     "name": "stderr",
     "output_type": "stream",
     "text": [
      " 43%|████▎     | 425362/1000000 [00:51<01:11, 7992.87it/s]"
     ]
    },
    {
     "ename": "",
     "evalue": "",
     "output_type": "error",
     "traceback": [
      "\u001b[1;31mCannot execute code, session has been disposed. Please try restarting the Kernel."
     ]
    },
    {
     "ename": "",
     "evalue": "",
     "output_type": "error",
     "traceback": [
      "\u001b[1;31mThe Kernel crashed while executing code in the the current cell or a previous cell. Please review the code in the cell(s) to identify a possible cause of the failure. Click <a href='https://aka.ms/vscodeJupyterKernelCrash'>here</a> for more info. View Jupyter <a href='command:jupyter.viewOutput'>log</a> for further details."
     ]
    }
   ],
   "source": [
    "import random\n",
    "from tqdm import tqdm\n",
    "\n",
    "def takeTargetList():\n",
    "    # Take Target List excluding the nearby elements\n",
    "    numList = list(range(16))\n",
    "    targetList = []\n",
    "    for _ in range(4):\n",
    "        thisRandom = random.choice(numList)\n",
    "        targetList.append(thisRandom)\n",
    "        numList.remove(thisRandom)\n",
    "        thisRandomLeft = thisRandom - 1\n",
    "        thisRandomRight = thisRandom + 1\n",
    "        if thisRandomLeft == -1:\n",
    "            thisRandomLeft = 15\n",
    "        if thisRandomRight == 16:\n",
    "            thisRandomRight = 0\n",
    "        if thisRandomLeft in numList:\n",
    "            numList.remove(thisRandomLeft)\n",
    "        if thisRandomRight in numList:\n",
    "            numList.remove(thisRandomRight)\n",
    "    return targetList\n",
    "\n",
    "resultList = []\n",
    "for _ in tqdm(range(1000000)):\n",
    "    thisList = takeTargetList()\n",
    "    if thisList not in resultList:\n",
    "        resultList.append(thisList)\n",
    "\n",
    "print(len(resultList))"
   ]
  },
  {
   "cell_type": "code",
   "execution_count": null,
   "metadata": {},
   "outputs": [],
   "source": []
  }
 ],
 "metadata": {
  "kernelspec": {
   "display_name": "pytorch",
   "language": "python",
   "name": "python3"
  },
  "language_info": {
   "codemirror_mode": {
    "name": "ipython",
    "version": 3
   },
   "file_extension": ".py",
   "mimetype": "text/x-python",
   "name": "python",
   "nbconvert_exporter": "python",
   "pygments_lexer": "ipython3",
   "version": "3.8.16"
  },
  "orig_nbformat": 4
 },
 "nbformat": 4,
 "nbformat_minor": 2
}
