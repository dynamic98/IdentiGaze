{
 "cells": [
  {
   "cell_type": "code",
   "execution_count": 2,
   "metadata": {},
   "outputs": [],
   "source": [
    "import torch\n",
    "import torch.nn as nn\n",
    "import torch.nn.functional as F\n",
    "from torch.utils.data import Dataset, DataLoader, random_split\n",
    "import pandas as pd\n",
    "from ML_Analysis_OptimalStimuli import LoadSelectiveData\n",
    "from ML_util import *\n",
    "from GazeStimuliImage import re_generate_stimuli as regesti\n",
    "from preattentive_object import PreattentiveObject as preobj\n",
    "\n",
    "device = 'cuda' if torch.cuda.is_available() else 'cpu'\n",
    "torch.manual_seed(777)\n",
    "if device == 'cuda':\n",
    "    torch.cuda.manual_seed_all(777)\n",
    "learning_rate = 0.001\n",
    "training_epochs = 70\n",
    "batch_size = 32\n",
    "# print(device)\n",
    "# print(torch.version.cuda)"
   ]
  },
  {
   "cell_type": "code",
   "execution_count": 3,
   "metadata": {},
   "outputs": [],
   "source": [
    "\n",
    "class IdentiGazeDataset(Dataset):\n",
    "    def __init__(self, path) -> None:\n",
    "        super().__init__()\n",
    "        self.preobj = preobj(1920,1080,'black')\n",
    "        self.loadSelectiveData = LoadSelectiveData(path)\n",
    "        # self.loadSelectiveData.set_domain_except('cnt_x','cnt_y','Task Encoding', 'Similarity Encoding')\n",
    "        self.x = self.loadSelectiveData.take_x()\n",
    "        self.y = self.loadSelectiveData.take_y()\n",
    "        self.image = self.loadSelectiveData.get_data().apply(lambda x: resize_img(regesti(self.preobj, self.loadSelectiveData.take_meta(x.name))), axis=1)\n",
    "    \n",
    "    def __len__(self):\n",
    "        return len(self.y)\n",
    "    \n",
    "    def __getitem__(self, index):\n",
    "        image = self.image.iloc[index]\n",
    "        y = self.y.iloc[index]\n",
    "        x = self.x.iloc[index,:].to_numpy()\n",
    "        return {'x':x, 'image':image, 'y':y}\n",
    "\n",
    "path = 'data/blue_medium_data_task2.csv'\n",
    "myIdentiGaze = IdentiGazeDataset(path)"
   ]
  },
  {
   "cell_type": "code",
   "execution_count": null,
   "metadata": {},
   "outputs": [
    {
     "data": {
      "text/plain": [
       "(197,)"
      ]
     },
     "execution_count": 3,
     "metadata": {},
     "output_type": "execute_result"
    }
   ],
   "source": [
    "myIdentiGaze.__getitem__(3)['x'].shape"
   ]
  },
  {
   "cell_type": "code",
   "execution_count": null,
   "metadata": {},
   "outputs": [],
   "source": [
    "class Model(nn.Module):\n",
    "    def __init__(self):\n",
    "        super(Model, self).__init__()\n",
    "        self.dropout = nn.Dropout(0.2)\n",
    "        self.layer1 = nn.Sequential(\n",
    "            nn.Conv2d(in_channels=3, out_channels=16, kernel_size=3, stride=1, padding=1).to(device),\n",
    "            nn.MaxPool2d(kernel_size=2, stride=2).to(device),\n",
    "            nn.ReLU().to(device),\n",
    "            nn.Conv2d(in_channels=16, out_channels=16, kernel_size=3, stride=1, padding=1).to(device),\n",
    "            nn.MaxPool2d(kernel_size=2, stride=2).to(device),\n",
    "            nn.ReLU().to(device),\n",
    "            nn.Conv2d(in_channels=16, out_channels=32, kernel_size=3, stride=2, padding=1).to(device),\n",
    "            nn.MaxPool2d(kernel_size=2, stride=2).to(device),\n",
    "            nn.ReLU().to(device),\n",
    "            nn.Conv2d(in_channels=32, out_channels=32, kernel_size=3, stride=2, padding=1).to(device),\n",
    "            nn.MaxPool2d(kernel_size=2, stride=2).to(device),\n",
    "            nn.ReLU().to(device)\n",
    "                                    )\n",
    "        self.layer2 = nn.Sequential(\n",
    "            nn.Linear(197,100).to(device),\n",
    "            nn.ReLU().to(device),\n",
    "            nn.Linear(100,100).to(device),\n",
    "            nn.ReLU().to(device),\n",
    "            nn.Linear(100,100).to(device),\n",
    "            nn.ReLU().to(device),\n",
    "            nn.Linear(100,100).to(device),\n",
    "            nn.ReLU().to(device),\n",
    "            nn.Linear(100,100).to(device),\n",
    "            nn.ReLU().to(device)\n",
    "                                    )\n",
    "        \n",
    "        self.fusionLayer = nn.Sequential(\n",
    "            nn.Linear(388, 388).to(device),\n",
    "            nn.ReLU().to(device),\n",
    "            nn.Linear(388, 240).to(device),\n",
    "            nn.ReLU().to(device),\n",
    "            nn.Linear(240, 100).to(device),\n",
    "            nn.ReLU().to(device),\n",
    "            nn.Linear(100, 50).to(device),\n",
    "            nn.ReLU().to(device),\n",
    "            nn.Linear(50, 20).to(device),\n",
    "            nn.ReLU().to(device),\n",
    "            nn.Linear(20, 13).to(device),\n",
    "        )\n",
    "\n",
    "    def forward(self, image, x):\n",
    "        image = image.view(-1, 3, 200, 200)\n",
    "        image = self.layer1(image)\n",
    "        image = torch.flatten(image, 1)\n",
    "        x = self.layer2(x)\n",
    "        x = self.dropout(x)\n",
    "        x_fusion = torch.cat((image, x),dim=1)\n",
    "        out = self.fusionLayer(x_fusion)\n",
    "        return out\n"
   ]
  },
  {
   "cell_type": "code",
   "execution_count": null,
   "metadata": {},
   "outputs": [],
   "source": [
    "IdentiGazeNet = Model()\n",
    "# output = IdentiGazeNet(torch.randn(100,3,200,200).to(device), torch.randn(100,145).to(device))\n",
    "# print(len(myIdentiGaze))"
   ]
  },
  {
   "cell_type": "code",
   "execution_count": null,
   "metadata": {},
   "outputs": [],
   "source": [
    "import torch.optim as optim\n",
    "\n",
    "criterion = nn.CrossEntropyLoss()\n",
    "optimizer = optim.Adam(IdentiGazeNet.parameters(), lr=learning_rate, weight_decay=1e-5)"
   ]
  },
  {
   "cell_type": "code",
   "execution_count": null,
   "metadata": {},
   "outputs": [],
   "source": [
    "train_size = int(len(myIdentiGaze)*0.8)\n",
    "test_size = len(myIdentiGaze) - train_size\n",
    "train_dataset, test_dataset = random_split(myIdentiGaze, [train_size, test_size])\n",
    "train_loader = DataLoader(train_dataset, batch_size=batch_size, shuffle=True)\n",
    "test_loader = DataLoader(test_dataset, batch_size=batch_size, shuffle=True)"
   ]
  },
  {
   "cell_type": "code",
   "execution_count": null,
   "metadata": {},
   "outputs": [
    {
     "name": "stdout",
     "output_type": "stream",
     "text": [
      "[1,    30] loss: 0.039\n",
      "[1,    60] loss: 0.038\n",
      "[1,    90] loss: 0.038\n",
      "[1,   120] loss: 0.038\n",
      "[1,   150] loss: 0.038\n",
      "[1,   180] loss: 0.038\n",
      "[1,   210] loss: 0.037\n",
      "[1,   240] loss: 0.036\n",
      "[1,   270] loss: 0.036\n",
      "[1,   300] loss: 0.037\n",
      "Accuracy of the network on the 10000 test images: 15 %\n",
      "[2,    30] loss: 0.035\n",
      "[2,    60] loss: 0.035\n",
      "[2,    90] loss: 0.036\n",
      "[2,   120] loss: 0.035\n",
      "[2,   150] loss: 0.035\n",
      "[2,   180] loss: 0.035\n",
      "[2,   210] loss: 0.035\n",
      "[2,   240] loss: 0.034\n",
      "[2,   270] loss: 0.035\n",
      "[2,   300] loss: 0.035\n",
      "Accuracy of the network on the 10000 test images: 14 %\n",
      "[3,    30] loss: 0.034\n",
      "[3,    60] loss: 0.035\n",
      "[3,    90] loss: 0.034\n",
      "[3,   120] loss: 0.034\n",
      "[3,   150] loss: 0.035\n",
      "[3,   180] loss: 0.035\n",
      "[3,   210] loss: 0.035\n"
     ]
    },
    {
     "ename": "",
     "evalue": "",
     "output_type": "error",
     "traceback": [
      "\u001b[1;31mCanceled future for execute_request message before replies were done"
     ]
    },
    {
     "ename": "",
     "evalue": "",
     "output_type": "error",
     "traceback": [
      "\u001b[1;31mThe Kernel crashed while executing code in the the current cell or a previous cell. Please review the code in the cell(s) to identify a possible cause of the failure. Click <a href='https://aka.ms/vscodeJupyterKernelCrash'>here</a> for more info. View Jupyter <a href='command:jupyter.viewOutput'>log</a> for further details."
     ]
    }
   ],
   "source": [
    "for epoch in range(training_epochs):\n",
    "    running_loss = 0.0\n",
    "    for i, data in enumerate(train_loader):\n",
    "        x = data['x'].to(device).type(dtype=torch.float32)\n",
    "        image = data['image'].to(device).type(dtype=torch.float32)\n",
    "        y = data['y'].to(device)\n",
    "        optimizer.zero_grad()\n",
    "        outputs = IdentiGazeNet(image, x)\n",
    "        loss = criterion(outputs, y)\n",
    "        loss.backward()\n",
    "        optimizer.step()\n",
    "\n",
    "        running_loss += loss.item()\n",
    "        if i % 30 == 29:\n",
    "            print(f\"[{epoch+1}, {i+1:5d}] loss: {running_loss / 2000:.3f}\")\n",
    "            running_loss = 0.0\n",
    "    \n",
    "    correct = 0\n",
    "    total = 0\n",
    "    # since we're not training, we don't need to calculate the gradients for our outputs\n",
    "    with torch.no_grad():\n",
    "        for data in test_loader:\n",
    "            x_test = data['x'].to(device).type(dtype=torch.float32)\n",
    "            image_test = data['image'].to(device).type(dtype=torch.float32)\n",
    "            y_test = data['y'].to(device)\n",
    "            # calculate outputs by running images through the network\n",
    "            outputs = IdentiGazeNet(image_test, x_test)\n",
    "            # the class with the highest energy is what we choose as prediction\n",
    "            _, predicted = torch.max(outputs.data, 1)\n",
    "            total += y_test.size(0)\n",
    "            correct += (predicted == y_test).sum().item()\n",
    "    print(f'Accuracy of the network on the 10000 test images: {100 * correct // total} %')\n",
    "    torch.save(IdentiGazeNet.state_dict(), f'ml-results/DL/IdentiGazenet_task2_{epoch}_{100 * correct // total}.pth')"
   ]
  },
  {
   "cell_type": "code",
   "execution_count": 9,
   "metadata": {},
   "outputs": [],
   "source": [
    "torch.save(IdentiGazeNet.state_dict(), 'ml-results/DL/IdentiGazenet3.pth')"
   ]
  },
  {
   "cell_type": "code",
   "execution_count": 9,
   "metadata": {},
   "outputs": [
    {
     "name": "stdout",
     "output_type": "stream",
     "text": [
      "Accuracy of the network on the 10000 test images: 8 %\n"
     ]
    }
   ],
   "source": [
    "load_bestModel = Model()\n",
    "load_bestModel.load_state_dict(torch.load('ml-results/DL/IdentiGazenet39_31.pth'))\n",
    "load_bestModel.to(device)\n",
    "load_bestModel.eval()\n",
    "\n",
    "\n",
    "correct = 0\n",
    "total = 0\n",
    "# since we're not training, we don't need to calculate the gradients for our outputs\n",
    "with torch.no_grad():\n",
    "    for data in test_loader:\n",
    "        x_test = data['x'].to(device).type(dtype=torch.float32)\n",
    "        image_test = data['image'].to(device).type(dtype=torch.float32)\n",
    "        y_test = data['y'].to(device)\n",
    "        # calculate outputs by running images through the network\n",
    "        outputs = IdentiGazeNet(image_test, x_test)\n",
    "        # the class with the highest energy is what we choose as prediction\n",
    "        _, predicted = torch.max(outputs.data, 1)\n",
    "        total += y_test.size(0)\n",
    "        correct += (predicted == y_test).sum().item()\n",
    "print(f'Accuracy of the network on the 10000 test images: {100 * correct // total} %')"
   ]
  },
  {
   "cell_type": "code",
   "execution_count": 42,
   "metadata": {},
   "outputs": [
    {
     "name": "stdout",
     "output_type": "stream",
     "text": [
      "Accuracy for class: 0 is 12.7 %\n",
      "Accuracy for class: 1 is 24.3 %\n",
      "Accuracy for class: 2 is 40.0 %\n",
      "Accuracy for class: 3 is 16.5 %\n",
      "Accuracy for class: 4 is 36.5 %\n",
      "Accuracy for class: 5 is 18.5 %\n",
      "Accuracy for class: 6 is 16.3 %\n",
      "Accuracy for class: 7 is 54.2 %\n",
      "Accuracy for class: 8 is 45.8 %\n",
      "Accuracy for class: 9 is 31.8 %\n",
      "Accuracy for class: 10 is 30.6 %\n",
      "Accuracy for class: 11 is 27.0 %\n",
      "Accuracy for class: 12 is 60.6 %\n"
     ]
    }
   ],
   "source": [
    "# prepare to count predictions for each class\n",
    "correct_pred = {classname: 0 for classname in range(13)}\n",
    "total_pred = {classname: 0 for classname in range(13)}\n",
    "\n",
    "# again no gradients needed\n",
    "with torch.no_grad():\n",
    "    for data in test_loader:\n",
    "        x_test = data['x'].to(device).type(dtype=torch.float32)\n",
    "        image_test = data['image'].to(device).type(dtype=torch.float32)\n",
    "        y_test = data['y'].to(device)\n",
    "        # calculate outputs by running images through the network\n",
    "        outputs = IdentiGazeNet(image_test, x_test)\n",
    "        _, predictions = torch.max(outputs, 1)\n",
    "        # collect the correct predictions for each class\n",
    "        for label, prediction in zip(y_test, predictions):\n",
    "            if label == prediction:\n",
    "                correct_pred[int(label)] += 1\n",
    "            total_pred[int(label)] += 1\n",
    "\n",
    "\n",
    "# print accuracy for each class\n",
    "for classname, correct_count in correct_pred.items():\n",
    "    accuracy = 100 * float(correct_count) / total_pred[classname]\n",
    "    print(f'Accuracy for class: {classname} is {accuracy:.1f} %')"
   ]
  },
  {
   "cell_type": "code",
   "execution_count": 43,
   "metadata": {},
   "outputs": [
    {
     "name": "stdout",
     "output_type": "stream",
     "text": [
      "GroundTruth:  12 12 3 4 4 9 9 10 2 9 12 0 5 6 5 10 12 3 3 7\n",
      "Predicted:  7 12 12 4 4 5 9 11 1 4 10 5 1 2 6 10 12 10 4 7\n"
     ]
    }
   ],
   "source": [
    "dataiter = iter(test_loader)\n",
    "data_test = next(dataiter)\n",
    "x_test = data_test['x'].to(device).type(dtype=torch.float32)\n",
    "image_test = data_test['image'].to(device).type(dtype=torch.float32)\n",
    "y_test = data_test['y'].to(device)\n",
    "print('GroundTruth: ', ' '.join(f'{y_test[j]}' for j in range(20)))\n",
    "outputs = IdentiGazeNet(image_test, x_test)\n",
    "_, predicted = torch.max(outputs, 1)\n",
    "print('Predicted: ', ' '.join(f'{predicted[j]}' for j in range (20)))"
   ]
  },
  {
   "cell_type": "code",
   "execution_count": 42,
   "metadata": {},
   "outputs": [
    {
     "data": {
      "image/png": "[encoded data removed]",
      "text/plain": [
       "<Figure size 640x480 with 1 Axes>"
      ]
     },
     "metadata": {},
     "output_type": "display_data"
    },
    {
     "name": "stdout",
     "output_type": "stream",
     "text": [
      "145\n"
     ]
    }
   ],
   "source": [
    "x1, image1, y1 = myIdentiGaze.__getitem__(1521)\n",
    "exampleimage = np.array(image1, dtype=np.uint8)\n",
    "plt.imshow(exampleimage)\n",
    "plt.show()\n",
    "print(len(x1))"
   ]
  },
  {
   "cell_type": "code",
   "execution_count": null,
   "metadata": {},
   "outputs": [],
   "source": []
  }
 ],
 "metadata": {
  "kernelspec": {
   "display_name": "Python 3",
   "language": "python",
   "name": "python3"
  },
  "language_info": {
   "codemirror_mode": {
    "name": "ipython",
    "version": 3
   },
   "file_extension": ".py",
   "mimetype": "text/x-python",
   "name": "python",
   "nbconvert_exporter": "python",
   "pygments_lexer": "ipython3",
   "version": "3.8.16"
  },
  "orig_nbformat": 4
 },
 "nbformat": 4,
 "nbformat_minor": 2
}
